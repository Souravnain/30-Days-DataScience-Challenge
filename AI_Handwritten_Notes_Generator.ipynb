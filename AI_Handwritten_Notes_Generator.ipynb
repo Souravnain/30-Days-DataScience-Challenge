{
  "nbformat": 4,
  "nbformat_minor": 0,
  "metadata": {
    "colab": {
      "provenance": []
    },
    "kernelspec": {
      "name": "python3",
      "display_name": "Python 3"
    },
    "language_info": {
      "name": "python"
    }
  },
  "cells": [
    {
      "cell_type": "code",
      "source": [
        "# Free handwriting font download (AmaticSC-Regular)\n",
        "!wget -O handwriting.ttf https://github.com/google/fonts/raw/main/ofl/amaticsc/AmaticSC-Regular.ttf\n"
      ],
      "metadata": {
        "colab": {
          "base_uri": "https://localhost:8080/"
        },
        "id": "zegURb0Z77Wx",
        "outputId": "fb1b0830-6db4-4014-bbf2-9efdfcaf5e48"
      },
      "execution_count": 2,
      "outputs": [
        {
          "output_type": "stream",
          "name": "stdout",
          "text": [
            "--2025-08-24 16:36:35--  https://github.com/google/fonts/raw/main/ofl/amaticsc/AmaticSC-Regular.ttf\n",
            "Resolving github.com (github.com)... 140.82.113.3\n",
            "Connecting to github.com (github.com)|140.82.113.3|:443... connected.\n",
            "HTTP request sent, awaiting response... 302 Found\n",
            "Location: https://raw.githubusercontent.com/google/fonts/main/ofl/amaticsc/AmaticSC-Regular.ttf [following]\n",
            "--2025-08-24 16:36:35--  https://raw.githubusercontent.com/google/fonts/main/ofl/amaticsc/AmaticSC-Regular.ttf\n",
            "Resolving raw.githubusercontent.com (raw.githubusercontent.com)... 185.199.108.133, 185.199.109.133, 185.199.110.133, ...\n",
            "Connecting to raw.githubusercontent.com (raw.githubusercontent.com)|185.199.108.133|:443... connected.\n",
            "HTTP request sent, awaiting response... 200 OK\n",
            "Length: 151624 (148K) [application/octet-stream]\n",
            "Saving to: ‘handwriting.ttf’\n",
            "\n",
            "\rhandwriting.ttf       0%[                    ]       0  --.-KB/s               \rhandwriting.ttf     100%[===================>] 148.07K  --.-KB/s    in 0.002s  \n",
            "\n",
            "2025-08-24 16:36:35 (58.3 MB/s) - ‘handwriting.ttf’ saved [151624/151624]\n",
            "\n"
          ]
        }
      ]
    },
    {
      "cell_type": "code",
      "source": [
        "!pip install fpdf pillow opencv-python\n"
      ],
      "metadata": {
        "colab": {
          "base_uri": "https://localhost:8080/"
        },
        "id": "u1VdPjZG8G_d",
        "outputId": "29d5e3db-ef57-45b5-f55c-0420c661cc2f"
      },
      "execution_count": 3,
      "outputs": [
        {
          "output_type": "stream",
          "name": "stdout",
          "text": [
            "Collecting fpdf\n",
            "  Downloading fpdf-1.7.2.tar.gz (39 kB)\n",
            "  Preparing metadata (setup.py) ... \u001b[?25l\u001b[?25hdone\n",
            "Requirement already satisfied: pillow in /usr/local/lib/python3.12/dist-packages (11.3.0)\n",
            "Requirement already satisfied: opencv-python in /usr/local/lib/python3.12/dist-packages (4.12.0.88)\n",
            "Requirement already satisfied: numpy<2.3.0,>=2 in /usr/local/lib/python3.12/dist-packages (from opencv-python) (2.0.2)\n",
            "Building wheels for collected packages: fpdf\n",
            "  Building wheel for fpdf (setup.py) ... \u001b[?25l\u001b[?25hdone\n",
            "  Created wheel for fpdf: filename=fpdf-1.7.2-py2.py3-none-any.whl size=40704 sha256=39f158f23d6cbed50c5912370d71e41dbd5d0c28ae99ceebf23736b6ab81cb51\n",
            "  Stored in directory: /root/.cache/pip/wheels/6e/62/11/dc73d78e40a218ad52e7451f30166e94491be013a7850b5d75\n",
            "Successfully built fpdf\n",
            "Installing collected packages: fpdf\n",
            "Successfully installed fpdf-1.7.2\n"
          ]
        }
      ]
    },
    {
      "cell_type": "code",
      "source": [
        "text = \"\"\"Greatest Common Divisor (GCD) is the largest number\n",
        "that divides two integers without leaving a remainder.\n",
        "Example: GCD(12, 18) = 6.\n",
        "\n",
        "Recurrence Relation Example:\n",
        "T(n) = T(n-1) + T(n-2), with T(0)=0, T(1)=1\"\"\"\n"
      ],
      "metadata": {
        "id": "sOi7DI378Koe"
      },
      "execution_count": 4,
      "outputs": []
    },
    {
      "cell_type": "code",
      "source": [
        "img.save(\"handwritten_notes.png\")\n",
        "img.show()\n"
      ],
      "metadata": {
        "id": "09jwCavS9r2f"
      },
      "execution_count": 13,
      "outputs": []
    },
    {
      "cell_type": "code",
      "source": [
        "from PIL import Image, ImageDraw, ImageFont\n",
        "\n",
        "# Create blank white page\n",
        "img = Image.new('RGB', (800, 1000), color=(255, 255, 255))\n",
        "d = ImageDraw.Draw(img)\n",
        "\n",
        "# Load handwriting font (downloaded one)\n",
        "font = ImageFont.truetype(\"handwriting.ttf\", 28)\n",
        "\n",
        "# Write text line by line\n",
        "y = 50\n",
        "for line in text.split(\"\\n\"):\n",
        "    d.text((50, y), line, font=font, fill=(0,0,0))\n",
        "    y += 50\n",
        "\n",
        "# Save handwritten image\n",
        "img.save(\"handwritten_notes.png\")\n",
        "img.show()\n"
      ],
      "metadata": {
        "id": "6Ifo_Ttj8Q_8"
      },
      "execution_count": 5,
      "outputs": []
    },
    {
      "cell_type": "code",
      "source": [
        "from fpdf import FPDF\n",
        "\n",
        "pdf = FPDF()\n",
        "pdf.add_page()\n",
        "pdf.image(\"handwritten_notes.png\", x=10, y=10, w=190)\n",
        "pdf.output(\"handwritten_notes.pdf\", \"F\")\n"
      ],
      "metadata": {
        "colab": {
          "base_uri": "https://localhost:8080/",
          "height": 35
        },
        "id": "EmSqFtIr8USz",
        "outputId": "501ff493-9add-4863-d101-127ad6e08c87"
      },
      "execution_count": 6,
      "outputs": [
        {
          "output_type": "execute_result",
          "data": {
            "text/plain": [
              "''"
            ],
            "application/vnd.google.colaboratory.intrinsic+json": {
              "type": "string"
            }
          },
          "metadata": {},
          "execution_count": 6
        }
      ]
    },
    {
      "cell_type": "code",
      "source": [
        "from google.colab import files\n",
        "files.download(\"handwritten_notes.pdf\")\n"
      ],
      "metadata": {
        "colab": {
          "base_uri": "https://localhost:8080/",
          "height": 17
        },
        "id": "pH0LrQ848XtQ",
        "outputId": "1b1937c2-a05d-4a64-8bd0-da9ebb4c8699"
      },
      "execution_count": 7,
      "outputs": [
        {
          "output_type": "display_data",
          "data": {
            "text/plain": [
              "<IPython.core.display.Javascript object>"
            ],
            "application/javascript": [
              "\n",
              "    async function download(id, filename, size) {\n",
              "      if (!google.colab.kernel.accessAllowed) {\n",
              "        return;\n",
              "      }\n",
              "      const div = document.createElement('div');\n",
              "      const label = document.createElement('label');\n",
              "      label.textContent = `Downloading \"${filename}\": `;\n",
              "      div.appendChild(label);\n",
              "      const progress = document.createElement('progress');\n",
              "      progress.max = size;\n",
              "      div.appendChild(progress);\n",
              "      document.body.appendChild(div);\n",
              "\n",
              "      const buffers = [];\n",
              "      let downloaded = 0;\n",
              "\n",
              "      const channel = await google.colab.kernel.comms.open(id);\n",
              "      // Send a message to notify the kernel that we're ready.\n",
              "      channel.send({})\n",
              "\n",
              "      for await (const message of channel.messages) {\n",
              "        // Send a message to notify the kernel that we're ready.\n",
              "        channel.send({})\n",
              "        if (message.buffers) {\n",
              "          for (const buffer of message.buffers) {\n",
              "            buffers.push(buffer);\n",
              "            downloaded += buffer.byteLength;\n",
              "            progress.value = downloaded;\n",
              "          }\n",
              "        }\n",
              "      }\n",
              "      const blob = new Blob(buffers, {type: 'application/binary'});\n",
              "      const a = document.createElement('a');\n",
              "      a.href = window.URL.createObjectURL(blob);\n",
              "      a.download = filename;\n",
              "      div.appendChild(a);\n",
              "      a.click();\n",
              "      div.remove();\n",
              "    }\n",
              "  "
            ]
          },
          "metadata": {}
        },
        {
          "output_type": "display_data",
          "data": {
            "text/plain": [
              "<IPython.core.display.Javascript object>"
            ],
            "application/javascript": [
              "download(\"download_8f0d1367-4f1f-4ec1-85bc-1bde64bb128c\", \"handwritten_notes.pdf\", 30497)"
            ]
          },
          "metadata": {}
        }
      ]
    },
    {
      "cell_type": "code",
      "source": [
        "def create_handwritten_notes(text, filename=\"notes.pdf\"):\n",
        "    from fpdf import FPDF\n",
        "    pdf = FPDF()\n",
        "    pdf.add_page()\n",
        "\n",
        "    # Break text into lines\n",
        "    lines = text.split(\"\\n\")\n",
        "    y = 30\n",
        "    for line in lines:\n",
        "        if y > 260:  # New page if overflow\n",
        "            pdf.add_page()\n",
        "            y = 30\n",
        "        pdf.set_font(\"Arial\", size=14)\n",
        "        pdf.text(x=20, y=y, txt=line)\n",
        "        y += 10\n",
        "\n",
        "    pdf.output(filename)\n",
        "    print(f\"{filename} saved!\")\n",
        "\n",
        "create_handwritten_notes(text, \"multi_page_notes.pdf\")\n"
      ],
      "metadata": {
        "colab": {
          "base_uri": "https://localhost:8080/"
        },
        "id": "l-ehxroB86-i",
        "outputId": "f61c3896-30ff-45ef-e8ea-6679f96f8054"
      },
      "execution_count": 8,
      "outputs": [
        {
          "output_type": "stream",
          "name": "stdout",
          "text": [
            "multi_page_notes.pdf saved!\n"
          ]
        }
      ]
    },
    {
      "cell_type": "code",
      "source": [
        "d.text((300, 20), \"Discrete Math Notes\", font=font, fill=(0,0,0))\n"
      ],
      "metadata": {
        "id": "kMvbkmb288KD"
      },
      "execution_count": 9,
      "outputs": []
    },
    {
      "cell_type": "code",
      "source": [
        "# Draw a small doodle (circle like idea bulb)\n",
        "d.ellipse((700, 80, 740, 120), outline=\"black\", width=3)\n",
        "d.text((705, 85), \"💡\", font=font, fill=(0,0,0))\n"
      ],
      "metadata": {
        "id": "JiTyaT9i8_Gi"
      },
      "execution_count": 10,
      "outputs": []
    },
    {
      "cell_type": "code",
      "source": [
        "import random\n",
        "\n",
        "y = 80\n",
        "for line in text.split(\"\\n\"):\n",
        "    x = 140\n",
        "    for word in line.split(\" \"):\n",
        "        angle = random.randint(-5, 5)  # tilt\n",
        "        d.text((x, y), word, font=font, fill=(0,0,150))\n",
        "        x += len(word)*20\n",
        "    y += 60\n"
      ],
      "metadata": {
        "id": "m9AIF5jk9Chw"
      },
      "execution_count": 11,
      "outputs": []
    },
    {
      "cell_type": "code",
      "source": [
        "from PIL import ImageOps\n",
        "\n",
        "note = Image.open(\"handwritten_notes.png\")\n",
        "collage = ImageOps.expand(note, border=30, fill='lightblue')\n",
        "collage.save(\"final_collage.png\")\n",
        "collage.show()\n"
      ],
      "metadata": {
        "id": "9aa0Ka_m9GhK"
      },
      "execution_count": 12,
      "outputs": []
    }
  ]
}