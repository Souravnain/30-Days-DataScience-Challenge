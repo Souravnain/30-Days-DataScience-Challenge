{
  "nbformat": 4,
  "nbformat_minor": 0,
  "metadata": {
    "colab": {
      "provenance": []
    },
    "kernelspec": {
      "name": "python3",
      "display_name": "Python 3"
    },
    "language_info": {
      "name": "python"
    }
  },
  "cells": [
    {
      "cell_type": "code",
      "execution_count": null,
      "metadata": {
        "id": "AxQg-WMjVeNX"
      },
      "outputs": [],
      "source": [
        "!pip install ortools==9.13.4784 protobuf==6.31.1 --quiet"
      ]
    },
    {
      "cell_type": "code",
      "source": [
        "# ✅ Import libraries\n",
        "import pandas as pd\n",
        "from ortools.sat.python import cp_model"
      ],
      "metadata": {
        "id": "sp0-BziIV6ZJ"
      },
      "execution_count": null,
      "outputs": []
    },
    {
      "cell_type": "code",
      "source": [
        "# ✅ Sample data\n",
        "teachers = [\"T1\", \"T2\", \"T3\"]\n",
        "classes = [\"C1\", \"C2\"]\n",
        "days = [\"Mon\", \"Tue\", \"Wed\"]\n",
        "slots = [\"9-10\", \"10-11\"]\n"
      ],
      "metadata": {
        "id": "7xz_9O8UVgV0"
      },
      "execution_count": null,
      "outputs": []
    },
    {
      "cell_type": "code",
      "source": [
        "# ✅ Model\n",
        "model = cp_model.CpModel()\n",
        "\n",
        "# Variables: timetable[class][teacher][day][slot] = 1 if assigned\n",
        "timetable = {}\n",
        "for c in classes:\n",
        "    for t in teachers:\n",
        "        for d in days:\n",
        "            for s in slots:\n",
        "                timetable[(c,t,d,s)] = model.NewBoolVar(f\"{c}_{t}_{d}_{s}\")\n",
        "\n"
      ],
      "metadata": {
        "id": "QNvUOwf9YWsi"
      },
      "execution_count": null,
      "outputs": []
    },
    {
      "cell_type": "code",
      "source": [
        "\n",
        "# ✅ Constraints\n",
        "\n",
        "# 1. Each class must have exactly one teacher per slot\n",
        "for c in classes:\n",
        "    for d in days:\n",
        "        for s in slots:\n",
        "            model.Add(sum(timetable[(c,t,d,s)] for t in teachers) == 1)\n",
        "\n",
        "# 2. A teacher cannot teach two classes at the same time\n",
        "for t in teachers:\n",
        "    for d in days:\n",
        "        for s in slots:\n",
        "            model.Add(sum(timetable[(c,t,d,s)] for c in classes) <= 1)\n"
      ],
      "metadata": {
        "id": "yLzGHvvHdZ2q"
      },
      "execution_count": null,
      "outputs": []
    },
    {
      "cell_type": "code",
      "source": [
        "# ✅ Solve\n",
        "solver = cp_model.CpSolver()\n",
        "status = solver.Solve(model)\n",
        "\n",
        "# ✅ Extract timetable\n",
        "output = []\n",
        "if status == cp_model.OPTIMAL:\n",
        "    for d in days:\n",
        "        for s in slots:\n",
        "            for c in classes:\n",
        "                for t in teachers:\n",
        "                    if solver.Value(timetable[(c,t,d,s)]) == 1:\n",
        "                        output.append([d, s, c, t])\n",
        "\n",
        "df = pd.DataFrame(output, columns=[\"Day\", \"Slot\", \"Class\", \"Teacher\"])\n",
        "print(\"✅ Optimized Timetable:\\n\")\n",
        "print(df)\n"
      ],
      "metadata": {
        "colab": {
          "base_uri": "https://localhost:8080/"
        },
        "id": "UlAAfOfLdfhl",
        "outputId": "fb48bd3c-e323-4037-e2a2-3822046679db"
      },
      "execution_count": null,
      "outputs": [
        {
          "output_type": "stream",
          "name": "stdout",
          "text": [
            "✅ Optimized Timetable:\n",
            "\n",
            "    Day   Slot Class Teacher\n",
            "0   Mon   9-10    C1      T2\n",
            "1   Mon   9-10    C2      T1\n",
            "2   Mon  10-11    C1      T2\n",
            "3   Mon  10-11    C2      T1\n",
            "4   Tue   9-10    C1      T2\n",
            "5   Tue   9-10    C2      T1\n",
            "6   Tue  10-11    C1      T2\n",
            "7   Tue  10-11    C2      T3\n",
            "8   Wed   9-10    C1      T2\n",
            "9   Wed   9-10    C2      T3\n",
            "10  Wed  10-11    C1      T2\n",
            "11  Wed  10-11    C2      T3\n"
          ]
        }
      ]
    },
    {
      "cell_type": "code",
      "source": [
        "# 📊 Pivot table for better visualization\n",
        "pivot = df.pivot(index=[\"Day\", \"Slot\"], columns=\"Class\", values=\"Teacher\")\n",
        "print(\"\\n📌 Timetable View:\\n\")\n",
        "print(pivot)\n"
      ],
      "metadata": {
        "colab": {
          "base_uri": "https://localhost:8080/"
        },
        "id": "U2R4mCrPdlPp",
        "outputId": "33bd1f34-0b69-4c04-d108-e92708255e2b"
      },
      "execution_count": null,
      "outputs": [
        {
          "output_type": "stream",
          "name": "stdout",
          "text": [
            "\n",
            "📌 Timetable View:\n",
            "\n",
            "Class      C1  C2\n",
            "Day Slot         \n",
            "Mon 10-11  T2  T1\n",
            "    9-10   T2  T1\n",
            "Tue 10-11  T2  T3\n",
            "    9-10   T2  T1\n",
            "Wed 10-11  T2  T3\n",
            "    9-10   T2  T3\n"
          ]
        }
      ]
    },
    {
      "cell_type": "code",
      "source": [
        "# 💾 Save output\n",
        "df.to_csv(\"timetable.csv\", index=False)\n",
        "df.to_excel(\"timetable.xlsx\", index=False)\n",
        "\n",
        "print(\"\\n✅ Timetable saved as timetable.csv and timetable.xlsx\")\n"
      ],
      "metadata": {
        "colab": {
          "base_uri": "https://localhost:8080/"
        },
        "id": "cmyi2_lUeU9C",
        "outputId": "b97a43cc-59d4-47a4-ac1d-e1fc5758fc2a"
      },
      "execution_count": null,
      "outputs": [
        {
          "output_type": "stream",
          "name": "stdout",
          "text": [
            "\n",
            "✅ Timetable saved as timetable.csv and timetable.xlsx\n"
          ]
        }
      ]
    },
    {
      "cell_type": "code",
      "source": [
        "import matplotlib.pyplot as plt\n",
        "import seaborn as sns\n",
        "\n",
        "plt.figure(figsize=(8,4))\n",
        "sns.heatmap(pd.crosstab(df[\"Day\"]+\" \"+df[\"Slot\"], df[\"Teacher\"]),\n",
        "            annot=True, fmt=\"d\", cmap=\"Blues\")\n",
        "plt.title(\"Teacher Allocation Heatmap\")\n",
        "plt.ylabel(\"Day & Slot\")\n",
        "plt.xlabel(\"Teacher\")\n",
        "plt.show()\n"
      ],
      "metadata": {
        "colab": {
          "base_uri": "https://localhost:8080/",
          "height": 410
        },
        "id": "YhO07_GdeZWz",
        "outputId": "4967ca2e-08d5-437e-989d-95b5cc0d1567"
      },
      "execution_count": null,
      "outputs": [
        {
          "output_type": "display_data",
          "data": {
            "text/plain": [
              "<Figure size 800x400 with 2 Axes>"
            ],
            "image/png": "[encoded data removed]"
          },
          "metadata": {}
        }
      ]
    },
    {
      "cell_type": "code",
      "source": [
        "# Example: T1 not available on Monday 9-10\n",
        "model.Add(timetable[(\"C1\",\"T1\",\"Mon\",\"9-10\")] == 0)\n",
        "model.Add(timetable[(\"C2\",\"T1\",\"Mon\",\"9-10\")] == 0)\n"
      ],
      "metadata": {
        "colab": {
          "base_uri": "https://localhost:8080/"
        },
        "id": "p-f4wT95fW-J",
        "outputId": "9251ab37-13da-4ff6-c6c3-04a242f1adff"
      },
      "execution_count": null,
      "outputs": [
        {
          "output_type": "execute_result",
          "data": {
            "text/plain": [
              "<ortools.sat.python.cp_model.Constraint at 0x7d6e6f8e4650>"
            ]
          },
          "metadata": {},
          "execution_count": 10
        }
      ]
    },
    {
      "cell_type": "code",
      "source": [
        "for t in teachers:\n",
        "    for d in days:\n",
        "        model.Add(sum(timetable[(c,t,d,s)] for c in classes for s in slots) <= 2)\n"
      ],
      "metadata": {
        "id": "1vBA9HkHfa-2"
      },
      "execution_count": null,
      "outputs": []
    },
    {
      "cell_type": "code",
      "source": [
        "teachers = input(\"Enter teachers (comma separated): \").split(\",\")\n",
        "classes = input(\"Enter classes (comma separated): \").split(\",\")\n",
        "days = input(\"Enter days (comma separated): \").split(\",\")\n",
        "slots = input(\"Enter slots (comma separated): \").split(\",\")\n"
      ],
      "metadata": {
        "colab": {
          "base_uri": "https://localhost:8080/"
        },
        "id": "dD8VB-cKfc8W",
        "outputId": "3e180ab9-0ec4-4183-8e54-4ed5482a9868"
      },
      "execution_count": null,
      "outputs": [
        {
          "name": "stdout",
          "output_type": "stream",
          "text": [
            "Enter teachers (comma separated): t\n",
            "Enter classes (comma separated): c\n",
            "Enter days (comma separated): d\n",
            "Enter slots (comma separated): c\n"
          ]
        }
      ]
    },
    {
      "cell_type": "code",
      "source": [
        "!pip install ortools==9.13.4784 protobuf==6.31.1 --quiet\n",
        "\n",
        "import pandas as pd\n",
        "from ortools.sat.python import cp_model\n",
        "\n",
        "# ✅ User Inputs\n",
        "teachers = input(\"Enter teachers (comma separated): \").split(\",\")\n",
        "classes = input(\"Enter classes (comma separated): \").split(\",\")\n",
        "days = input(\"Enter days (comma separated, e.g., Mon,Tue,Wed): \").split(\",\")\n",
        "slots = input(\"Enter time slots (comma separated, e.g., 9-10,10-11): \").split(\",\")\n",
        "\n",
        "# ✅ Strip spaces\n",
        "teachers = [t.strip() for t in teachers]\n",
        "classes = [c.strip() for c in classes]\n",
        "days = [d.strip() for d in days]\n",
        "slots = [s.strip() for s in slots]\n",
        "\n",
        "print(\"\\n📌 Data loaded:\")\n",
        "print(\"Teachers:\", teachers)\n",
        "print(\"Classes:\", classes)\n",
        "print(\"Days:\", days)\n",
        "print(\"Slots:\", slots)\n",
        "\n",
        "# ✅ Model\n",
        "model = cp_model.CpModel()\n",
        "\n",
        "# Variables: timetable[class][teacher][day][slot] = 1 if assigned\n",
        "timetable = {}\n",
        "for c in classes:\n",
        "    for t in teachers:\n",
        "        for d in days:\n",
        "            for s in slots:\n",
        "                timetable[(c,t,d,s)] = model.NewBoolVar(f\"{c}_{t}_{d}_{s}\")\n",
        "\n",
        "# ✅ Constraints\n",
        "\n",
        "# 1. Each class must have exactly one teacher per slot\n",
        "for c in classes:\n",
        "    for d in days:\n",
        "        for s in slots:\n",
        "            model.Add(sum(timetable[(c,t,d,s)] for t in teachers) == 1)\n",
        "\n",
        "# 2. A teacher cannot teach two classes at the same time\n",
        "for t in teachers:\n",
        "    for d in days:\n",
        "        for s in slots:\n",
        "            model.Add(sum(timetable[(c,t,d,s)] for c in classes) <= 1)\n",
        "\n",
        "# ✅ Solve\n",
        "solver = cp_model.CpSolver()\n",
        "status = solver.Solve(model)\n",
        "\n",
        "# ✅ Extract timetable\n",
        "output = []\n",
        "if status == cp_model.OPTIMAL:\n",
        "    for d in days:\n",
        "        for s in slots:\n",
        "            for c in classes:\n",
        "                for t in teachers:\n",
        "                    if solver.Value(timetable[(c,t,d,s)]) == 1:\n",
        "                        output.append([d, s, c, t])\n",
        "\n",
        "df = pd.DataFrame(output, columns=[\"Day\", \"Slot\", \"Class\", \"Teacher\"])\n",
        "print(\"\\n✅ Optimized Timetable:\\n\")\n",
        "print(df)\n"
      ],
      "metadata": {
        "colab": {
          "base_uri": "https://localhost:8080/"
        },
        "id": "DhUtT2COgQNY",
        "outputId": "e741bbf1-1adb-4258-b448-e297cc810586"
      },
      "execution_count": null,
      "outputs": [
        {
          "output_type": "stream",
          "name": "stdout",
          "text": [
            "Enter teachers (comma separated): t\n",
            "Enter classes (comma separated): c\n",
            "Enter days (comma separated, e.g., Mon,Tue,Wed): m\n",
            "Enter time slots (comma separated, e.g., 9-10,10-11): t\n",
            "\n",
            "📌 Data loaded:\n",
            "Teachers: ['t']\n",
            "Classes: ['c']\n",
            "Days: ['m']\n",
            "Slots: ['t']\n",
            "\n",
            "✅ Optimized Timetable:\n",
            "\n",
            "  Day Slot Class Teacher\n",
            "0   m    t     c       t\n"
          ]
        }
      ]
    },
    {
      "cell_type": "code",
      "source": [],
      "metadata": {
        "id": "imy-GuUTgbVK"
      },
      "execution_count": null,
      "outputs": []
    }
  ]
}